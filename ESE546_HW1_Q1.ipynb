{
  "nbformat": 4,
  "nbformat_minor": 0,
  "metadata": {
    "colab": {
      "name": "AdarshModh_ESE546_HW1.ipynb",
      "provenance": [],
      "collapsed_sections": [],
      "toc_visible": true,
      "include_colab_link": true
    },
    "kernelspec": {
      "name": "python3",
      "display_name": "Python 3"
    },
    "accelerator": "GPU"
  },
  "cells": [
    {
      "cell_type": "markdown",
      "metadata": {
        "id": "view-in-github",
        "colab_type": "text"
      },
      "source": [
        "<a href=\"https://colab.research.google.com/github/adarshmodh/Deep-Learning-Assignments/blob/master/ESE546_HW1_Q1.ipynb\" target=\"_parent\"><img src=\"https://colab.research.google.com/assets/colab-badge.svg\" alt=\"Open In Colab\"/></a>"
      ]
    },
    {
      "cell_type": "code",
      "metadata": {
        "id": "8n0b3ao4iKVk",
        "colab_type": "code",
        "colab": {}
      },
      "source": [
        "#only for the first time to setup your gdrive storage\n",
        "import os\n",
        "from google.colab import drive\n",
        "\n",
        "# Mount google drive\n",
        "DRIVE_MOUNT='/content/gdrive'\n",
        "drive.mount(DRIVE_MOUNT)\n",
        "\n",
        "\n",
        "# create folder to write data to\n",
        "ESE546_FOLDER=os.path.join(DRIVE_MOUNT, 'My Drive', 'ESE546_2019')\n",
        "HOMEWORK_FOLDER=os.path.join(ESE546_FOLDER, 'HW1')\n",
        "os.makedirs(HOMEWORK_FOLDER, exist_ok=True)"
      ],
      "execution_count": 0,
      "outputs": []
    },
    {
      "cell_type": "code",
      "metadata": {
        "id": "BmmupXzbduC2",
        "colab_type": "code",
        "colab": {
          "base_uri": "https://localhost:8080/",
          "height": 34
        },
        "outputId": "8f8b7ffd-ca7a-4ad4-ee02-67a89fa80ce5"
      },
      "source": [
        "#just mount google drive\n",
        "from google.colab import drive\n",
        "drive.mount('/content/gdrive')"
      ],
      "execution_count": 2,
      "outputs": [
        {
          "output_type": "stream",
          "text": [
            "Mounted at /content/gdrive\n"
          ],
          "name": "stdout"
        }
      ]
    },
    {
      "cell_type": "markdown",
      "metadata": {
        "id": "i8705FzCiEig",
        "colab_type": "text"
      },
      "source": [
        "# Problem 1 **MNIST**"
      ]
    },
    {
      "cell_type": "code",
      "metadata": {
        "id": "aaMNUt0lEeLx",
        "colab_type": "code",
        "outputId": "ebac38de-ea92-49f5-b20d-efa01e70c4c1",
        "colab": {
          "base_uri": "https://localhost:8080/",
          "height": 34
        }
      },
      "source": [
        "# Creating dataset\n",
        "from pathlib import Path\n",
        "import random\n",
        "import torch\n",
        "from torchvision import datasets, transforms\n",
        "\n",
        "data_folder = Path(\"/content/gdrive/My Drive/ESE546_2019/HW1\")\n",
        "\n",
        "transform = transforms.Compose(\n",
        "        [transforms.ToTensor(),\n",
        "        transforms.Normalize(mean=[0.0],std=[1.0])])\n",
        "\n",
        "trainset = datasets.MNIST(data_folder / \"MNIST_data/\", download=True, train=True, transform=transform)\n",
        "valset = datasets.MNIST(data_folder / \"MNIST_data/\", download=True, train=False, transform=transform)\n",
        "\n",
        "\n",
        "num_traindata = 30016\n",
        "num_testdata = 5024\n",
        "\n",
        "train_sampler = torch.utils.data.sampler.WeightedRandomSampler(weights=[1.0]*num_traindata,num_samples=num_traindata , replacement=False)\n",
        "test_sampler = torch.utils.data.sampler.WeightedRandomSampler(weights=[1.0]*num_testdata,num_samples=num_testdata , replacement=False)\n",
        "\n",
        "trainloader = torch.utils.data.DataLoader(trainset, batch_size=32, sampler = train_sampler)\n",
        "valloader = torch.utils.data.DataLoader(valset, batch_size=32, sampler = test_sampler)\n",
        "print(len(trainloader),len(valloader))"
      ],
      "execution_count": 4,
      "outputs": [
        {
          "output_type": "stream",
          "text": [
            "938 157\n"
          ],
          "name": "stdout"
        }
      ]
    },
    {
      "cell_type": "code",
      "metadata": {
        "id": "prnOeR1-zDgq",
        "colab_type": "code",
        "colab": {}
      },
      "source": [
        "import numpy as np\n",
        "\n",
        "def softmax(x):\n",
        "  exps = np.exp(x - np.max(x))\n",
        "  return exps/np.sum(exps)\n",
        "\n",
        "class linear_t:\n",
        "  def __init__(self, cin, cout, bias=True):\n",
        "    # initialize to appropriate sizes, fill with Gaussian entires\n",
        "    # normalize everything to make the Frobenius norm of w, b is 1\n",
        "    self.w = np.random.normal(loc=0.0,scale = np.sqrt(2/(cin+cout)),size=(cin,cout))\n",
        "    # self.w = 0.01 * np.random.randn(cin,cout)\n",
        "    self.b = np.zeros(cout)\n",
        "    self.dw, self.db = 0.0,0.0\n",
        "    # print(self.w.shape, self.b.shape) \n",
        "\n",
        "  def forward(self, x):\n",
        "    self.x = x\n",
        "    y = np.matmul(x, self.w) + self.b \n",
        "    return y\n",
        "\n",
        "  def backward(self, dy):\n",
        "    m = self.x.shape[1]\n",
        "\n",
        "    dx = np.matmul(dy, self.w.T)\n",
        "    dw = np.matmul(self.x.T , dy) / m \n",
        "    db = np.sum(dy, axis=1, keepdims=True) / m\n",
        "\n",
        "    self.dw, self.db = dw, db\n",
        "    # notice that there is no need to cache dhˆl\n",
        "    return dx\n",
        "  \n",
        "  def zero_grad(self):\n",
        "    # useful to delete the stored backprop gradients of the\n",
        "    # previous mini-batch before you start a new mini-batch\n",
        "    self.dw, self.db = 0*self.dw, 0*self.db\n",
        "\n",
        "class relu_t:\n",
        "  def __init__(self):\n",
        "    pass\n",
        "  def forward(self,x):\n",
        "    self.x = x\n",
        "    y = np.maximum(0,x)\n",
        "    return y  \n",
        "\n",
        "  def backward(self, dy):\n",
        "    dx = np.array(dy, copy = True)\n",
        "    dx[self.x <= 0] = 0;\n",
        "    return dx\n",
        "    \n",
        "class softmax_cross_entropy_t:\n",
        "  def __init__(self):\n",
        "    # no parameters, nothing to initialize\n",
        "    pass\n",
        "  \n",
        "  def forward(self, x, y_true):\n",
        "    self.x = x\n",
        "    m = y_true.shape[0]\n",
        "    \n",
        "    #softmax\n",
        "    probs = softmax(x)\n",
        "\n",
        "    # # cross entropy loss\n",
        "    # log_likelihood = -np.log(probs[range(m),y_true])\n",
        "    # loss = np.sum(log_likelihood) / m\n",
        "\n",
        "    # # better cross entropy\n",
        "    y_hat = x[range(m),y_true]\n",
        "    loss = -y_hat + np.log(np.sum(np.exp(x), axis=-1))\n",
        "    loss = loss.sum()/m\n",
        "\n",
        "    #error\n",
        "    y_hat = np.argmax(probs.copy(), axis = 1)\n",
        "    positives = np.sum(y_hat == y_true)\n",
        "    error = (m-positives)/m\n",
        "    \n",
        "    self.y_true = y_true\n",
        "    return loss, error\n",
        "  \n",
        "  def backward(self):\n",
        "    # as we saw in the notes, the backprop input to the\n",
        "    # loss layer is 1, so this function does not take any\n",
        "    # arguments\n",
        "    m = self.y_true.shape[0]\n",
        "    y_true = self.y_true\n",
        "    x = self.x\n",
        "\n",
        "    # grad = softmax(x)\n",
        "    # grad[range(m),y_true] -= 1\n",
        "    # grad = grad/m \n",
        "    # return grad\n",
        "\n",
        "    ones_y_hat = np.zeros_like(x)\n",
        "    ones_y_hat[np.arange(len(x)),y_true] = 1\n",
        "    softmax = np.exp(x) / np.exp(x).sum(axis=-1,keepdims=True)\n",
        "    return (- ones_y_hat + softmax) / m\n"
      ],
      "execution_count": 0,
      "outputs": []
    },
    {
      "cell_type": "code",
      "metadata": {
        "id": "mfrDASjpT2Ay",
        "colab_type": "code",
        "outputId": "6b0ce8a6-2df1-43da-aa59-5fc4c1c33705",
        "colab": {
          "base_uri": "https://localhost:8080/",
          "height": 1000
        }
      },
      "source": [
        "import matplotlib.pyplot as plt\n",
        "\n",
        "cin = 784\n",
        "cout = 10\n",
        "l1, l2, l3 = linear_t(cin,cout), relu_t(), softmax_cross_entropy_t()\n",
        "net = [l1, l2, l3]\n",
        "\n",
        "lr = 0.3\n",
        "epochs = 30\n",
        "t = 0\n",
        "\n",
        "training_loss_plot=[]\n",
        "training_error_plot=[]\n",
        "testing_loss_plot=[]\n",
        "testing_error_plot=[]\n",
        "\n",
        "\n",
        "for e in range(epochs):\n",
        "    running_loss = 0.0\n",
        "    running_error = 0\n",
        "\n",
        "    #Training \n",
        "    for images, labels in trainloader:\n",
        "        t+=32\n",
        "        x, y = images.flatten(1).numpy(), labels.numpy()\n",
        "        # print(x.shape, y.shape)\n",
        "        # zeroing out gradient for linear layer \n",
        "        l1.zero_grad()\n",
        "        \n",
        "        # 3.forward pass\n",
        "        # loss,error = forward_pass(net, x, y)\n",
        "        h1 = l1.forward(x)\n",
        "        h2 = l2.forward(h1)\n",
        "        loss,error = l3.forward(h2,y)\n",
        "        # print(t, loss, error)\n",
        "        \n",
        "        # 4. backward pass\n",
        "        # dw, db, w, b = backward_pass(net)\n",
        "        dh2 = l3.backward()\n",
        "        dh1 = l2.backward(dh2)\n",
        "        dx = l1.backward(dh1)\n",
        "        dw, db = l1.dw, l1.db\n",
        "        # print(t, np.linalg.norm(dw/l1.w), np.linalg.norm(db/l1.b))\n",
        "        \n",
        "        # 5. one step of SGD\n",
        "        l1.w = l1.w - lr*dw\n",
        "        l1.b = l1.b - lr*db \n",
        "\n",
        "        running_loss += loss\n",
        "        running_error += error\n",
        "\n",
        "\n",
        "    training_loss_plot.append(running_loss/len(trainloader))\n",
        "    training_error_plot.append(running_error/len(trainloader))\n",
        "    print(\"Epoch {}, Iteration:{} - Training loss: {}, Error: {}\".format(e,t, running_loss/len(trainloader), running_error/len(trainloader)))\n",
        "\n",
        "    #validate after very epoch\n",
        "    val_running_loss = 0.0\n",
        "    val_running_error = 0.0\n",
        "    for images, labels in valloader:\n",
        "      x, y = images.flatten(1).numpy(), labels.numpy()\n",
        "      # print(x.shape, y.shape)\n",
        "    \n",
        "      h1 = l1.forward(x)\n",
        "      h2 = l2.forward(h1)\n",
        "      loss,error = l3.forward(h2,y)\n",
        "      val_running_loss+=loss\n",
        "      val_running_error+=error\n",
        "\n",
        "    testing_loss_plot.append(val_running_loss/len(valloader))\n",
        "    testing_error_plot.append(val_running_error/len(valloader))\n",
        "\n",
        "\n",
        "plt.figure(1)\n",
        "plt.title(\"Training Loss/Error vs. Number of Epochs\")\n",
        "plt.xlabel(\"Epochs\")\n",
        "plt.ylabel(\"Loss\")\n",
        "plt.plot(training_loss_plot, label='Training loss')\n",
        "plt.plot(training_error_plot, label='Training error')\n",
        "plt.legend(frameon=False)\n",
        "plt.grid()\n",
        "plt.show() \n",
        "\n",
        "plt.figure(2)\n",
        "plt.title(\"Loss/Error vs. Number of Epochs\")\n",
        "plt.xlabel(\" Epochs\")\n",
        "plt.ylabel(\"Error\")\n",
        "plt.plot(testing_loss_plot, label='Testing loss')\n",
        "plt.plot(testing_error_plot, label='Testing error')\n",
        "plt.legend(frameon=False)\n",
        "plt.grid()\n",
        "plt.show()         "
      ],
      "execution_count": 0,
      "outputs": [
        {
          "output_type": "stream",
          "text": [
            "Epoch 0, Iteration:30016 - Training loss: 2.2481070068584073, Error: 0.8395189232409381\n",
            "Epoch 1, Iteration:60032 - Training loss: 2.004345859318564, Error: 0.6026785714285714\n",
            "Epoch 2, Iteration:90048 - Training loss: 1.7718802273721235, Error: 0.4210754264392324\n",
            "Epoch 3, Iteration:120064 - Training loss: 1.5792051783019678, Error: 0.3396521855010661\n",
            "Epoch 4, Iteration:150080 - Training loss: 1.42647847988556, Error: 0.2915445095948827\n",
            "Epoch 5, Iteration:180096 - Training loss: 1.3058589973032027, Error: 0.2615271855010661\n",
            "Epoch 6, Iteration:210112 - Training loss: 1.208971658734665, Error: 0.24037180170575692\n",
            "Epoch 7, Iteration:240128 - Training loss: 1.1299169264465727, Error: 0.2256130063965885\n",
            "Epoch 8, Iteration:270144 - Training loss: 1.0643842618836243, Error: 0.2137193496801706\n",
            "Epoch 9, Iteration:300160 - Training loss: 1.0093060914942293, Error: 0.20519056503198294\n",
            "Epoch 10, Iteration:330176 - Training loss: 0.9624089090539109, Error: 0.19749466950959488\n",
            "Epoch 11, Iteration:360192 - Training loss: 0.9219922818833998, Error: 0.1917643923240938\n",
            "Epoch 12, Iteration:390208 - Training loss: 0.8868102293789415, Error: 0.1863339552238806\n",
            "Epoch 13, Iteration:420224 - Training loss: 0.8558958762172032, Error: 0.1808702025586354\n",
            "Epoch 14, Iteration:450240 - Training loss: 0.828515840883282, Error: 0.17663912579957355\n",
            "Epoch 15, Iteration:480256 - Training loss: 0.8040759518200852, Error: 0.17297441364605542\n",
            "Epoch 16, Iteration:510272 - Training loss: 0.7821367734097613, Error: 0.17004264392324095\n",
            "Epoch 17, Iteration:540288 - Training loss: 0.7623065472879963, Error: 0.16727745202558636\n",
            "Epoch 18, Iteration:570304 - Training loss: 0.7442856895477508, Error: 0.16477878464818763\n",
            "Epoch 19, Iteration:600320 - Training loss: 0.727838930342369, Error: 0.16204690831556504\n",
            "Epoch 20, Iteration:630336 - Training loss: 0.7127581268934393, Error: 0.15961487206823027\n",
            "Epoch 21, Iteration:660352 - Training loss: 0.6988699654149789, Error: 0.1578491471215352\n",
            "Epoch 22, Iteration:690368 - Training loss: 0.6860314862824386, Error: 0.1552838486140725\n",
            "Epoch 23, Iteration:720384 - Training loss: 0.6741318913673572, Error: 0.15345149253731344\n",
            "Epoch 24, Iteration:750400 - Training loss: 0.6630583630421796, Error: 0.15181902985074627\n",
            "Epoch 25, Iteration:780416 - Training loss: 0.6527283982239775, Error: 0.1497867803837953\n",
            "Epoch 26, Iteration:810432 - Training loss: 0.6430633573299476, Error: 0.14868736673773988\n",
            "Epoch 27, Iteration:840448 - Training loss: 0.633993353394241, Error: 0.14755463752665246\n",
            "Epoch 28, Iteration:870464 - Training loss: 0.6254739623803817, Error: 0.14598880597014927\n",
            "Epoch 29, Iteration:900480 - Training loss: 0.617446552970811, Error: 0.14495602345415778\n"
          ],
          "name": "stdout"
        },
        {
          "output_type": "display_data",
          "data": {
            "image/png": "[encoded data removed]",
            "text/plain": [
              "<Figure size 432x288 with 1 Axes>"
            ]
          },
          "metadata": {
            "tags": []
          }
        },
        {
          "output_type": "display_data",
          "data": {
            "image/png": "[encoded data removed]",
            "text/plain": [
              "<Figure size 432x288 with 1 Axes>"
            ]
          },
          "metadata": {
            "tags": []
          }
        }
      ]
    },
    {
      "cell_type": "markdown",
      "metadata": {
        "id": "YVpZ9hAQMp4V",
        "colab_type": "text"
      },
      "source": [
        "# Using Pytorch"
      ]
    },
    {
      "cell_type": "code",
      "metadata": {
        "id": "nzOGrdDSCYhQ",
        "colab_type": "code",
        "outputId": "5cc66aff-cff3-49e2-fd00-708216961e0b",
        "colab": {
          "base_uri": "https://localhost:8080/",
          "height": 544
        }
      },
      "source": [
        "import torch\n",
        "from torch import nn\n",
        "from torch import optim\n",
        "import matplotlib.pyplot as plt\n",
        "\n",
        "device = torch.device('cuda' if torch.cuda.is_available() else 'cpu')\n",
        "print(device)\n",
        "\n",
        "cin, cout = 784, 10\n",
        "\n",
        "model = torch.nn.Sequential(\n",
        "    torch.nn.Linear(cin, cout, bias=True),\n",
        "    torch.nn.ReLU(),\n",
        "    torch.nn.LogSoftmax(dim=1)\n",
        ").to(device)\n",
        "\n",
        "loss_criterion = torch.nn.NLLLoss(reduction='mean')\n",
        "\n",
        "learning_rate = 0.2\n",
        "optimizer = torch.optim.SGD(model.parameters(), lr = learning_rate)\n",
        "\n",
        "training_loss=[]\n",
        "training_acc=[]\n",
        "\n",
        "validation_loss = []\n",
        "validation_acc = []\n",
        "\n",
        "\n",
        "epochs = 30\n",
        "for e in range(epochs):\n",
        "    running_loss = 0.0\n",
        "    running_acc = 0\n",
        "\n",
        "    #Training \n",
        "    for images, labels in trainloader:\n",
        "        images,labels = images.flatten(1).to(device), labels.to(device)\n",
        "        # print(images.shape,labels.shape)\n",
        "        optimizer.zero_grad()        \n",
        "        output = model(images)\n",
        "        loss = loss_criterion(output, labels)\n",
        "        loss.backward()\n",
        "        optimizer.step()\n",
        "  \n",
        "        running_loss += loss.item()\n",
        "        \n",
        "        pred_labels = torch.argmax(torch.exp(output), dim=1)\n",
        "        # print(pred_labels,labels)\n",
        "        running_acc += torch.sum(pred_labels == labels).float()/labels.shape[0]\n",
        "        # print(running_acc, len(trainloader))\n",
        "    \n",
        "    training_acc.append(running_acc/len(trainloader))\n",
        "    training_loss.append(running_loss/len(trainloader))\n",
        "    print(\"Epoch {} - Training loss: {}\".format(e, running_loss/len(trainloader)))\n",
        "    \n",
        "    #Testing\n",
        "    test_running_loss = 0.0\n",
        "    test_running_acc = 0\n",
        "    for images,labels in valloader:\n",
        "      images,labels = images.flatten(1).to(device), labels.to(device)\n",
        "      with torch.no_grad():\n",
        "        output = model(images)\n",
        "        loss = loss_criterion(output,labels)\n",
        "        test_running_loss += loss.item()\n",
        "        pred_labels = torch.argmax(torch.exp(output),dim=1)\n",
        "        test_running_acc += torch.sum(pred_labels == labels).float()/labels.shape[0]\n",
        "\n",
        "    validation_loss.append(test_running_loss/len(valloader))\n",
        "    validation_acc.append(test_running_acc/len(valloader))"
      ],
      "execution_count": 11,
      "outputs": [
        {
          "output_type": "stream",
          "text": [
            "cuda\n",
            "Epoch 0 - Training loss: 0.745138720774066\n",
            "Epoch 1 - Training loss: 0.3217577280631579\n",
            "Epoch 2 - Training loss: 0.2971793747644053\n",
            "Epoch 3 - Training loss: 0.2829177771756517\n",
            "Epoch 4 - Training loss: 0.2749619544950375\n",
            "Epoch 5 - Training loss: 0.26869981663662995\n",
            "Epoch 6 - Training loss: 0.2625313367384837\n",
            "Epoch 7 - Training loss: 0.2587673378063799\n",
            "Epoch 8 - Training loss: 0.2555577917092009\n",
            "Epoch 9 - Training loss: 0.25203982349048293\n",
            "Epoch 10 - Training loss: 0.2490687873174768\n",
            "Epoch 11 - Training loss: 0.24474843062444537\n",
            "Epoch 12 - Training loss: 0.2439239304155302\n",
            "Epoch 13 - Training loss: 0.2404992541492875\n",
            "Epoch 14 - Training loss: 0.23956929869266716\n",
            "Epoch 15 - Training loss: 0.23798434089209988\n",
            "Epoch 16 - Training loss: 0.2361267050033185\n",
            "Epoch 17 - Training loss: 0.23389541027324795\n",
            "Epoch 18 - Training loss: 0.23253270248169583\n",
            "Epoch 19 - Training loss: 0.23183693740763137\n",
            "Epoch 20 - Training loss: 0.2304090694514419\n",
            "Epoch 21 - Training loss: 0.22896565880173686\n",
            "Epoch 22 - Training loss: 0.22797406141135865\n",
            "Epoch 23 - Training loss: 0.22617128976722006\n",
            "Epoch 24 - Training loss: 0.2257830187011121\n",
            "Epoch 25 - Training loss: 0.22473695222089793\n",
            "Epoch 26 - Training loss: 0.22361548960621933\n",
            "Epoch 27 - Training loss: 0.22263328507860333\n",
            "Epoch 28 - Training loss: 0.22156580037145474\n",
            "Epoch 29 - Training loss: 0.2206874537124817\n"
          ],
          "name": "stdout"
        }
      ]
    },
    {
      "cell_type": "code",
      "metadata": {
        "id": "nfPKRUKGF7nQ",
        "colab_type": "code",
        "colab": {
          "base_uri": "https://localhost:8080/",
          "height": 573
        },
        "outputId": "bbc13082-a84d-4de0-dacf-048173b45bb9"
      },
      "source": [
        "# Plot training and validation curves\n",
        "plt.figure(0)\n",
        "plt.title(\"Accuracy vs. Number of Training Epochs\")\n",
        "plt.xlabel(\"Training Epochs\")\n",
        "plt.ylabel(\"Accuracy\")\n",
        "plt.plot(training_acc, label='Training Accuracy')\n",
        "plt.plot(validation_acc, label='Validation Accuracy')\n",
        "plt.legend(frameon=False)\n",
        "plt.grid()\n",
        "plt.show()\n",
        "\n",
        "plt.figure(1)\n",
        "plt.title(\"Loss vs. Number of Training Epochs\")\n",
        "plt.xlabel(\"Training Epochs\")\n",
        "plt.ylabel(\"Loss\")\n",
        "plt.plot(training_loss, label='Training loss')\n",
        "plt.plot(validation_loss, label='Validation loss')\n",
        "plt.legend(frameon=False)\n",
        "plt.grid()\n",
        "plt.show()"
      ],
      "execution_count": 12,
      "outputs": [
        {
          "output_type": "display_data",
          "data": {
            "image/png": "[encoded data removed]",
            "text/plain": [
              "<Figure size 432x288 with 1 Axes>"
            ]
          },
          "metadata": {
            "tags": []
          }
        },
        {
          "output_type": "display_data",
          "data": {
            "image/png": "[encoded data removed]",
            "text/plain": [
              "<Figure size 432x288 with 1 Axes>"
            ]
          },
          "metadata": {
            "tags": []
          }
        }
      ]
    }
  ]
}